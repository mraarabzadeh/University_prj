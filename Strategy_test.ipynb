{
 "cells": [
  {
   "cell_type": "code",
   "execution_count": 27,
   "metadata": {},
   "outputs": [],
   "source": [
    "import torch\n",
    "import torch.nn as nn\n",
    "import numpy as np\n",
    "import pandas as pd\n",
    "import matplotlib.pyplot as plt\n",
    "from sklearn.preprocessing import MinMaxScaler\n",
    "from BitcoinLib import Bitcoin, inputs, make_input\n",
    "WS = 5"
   ]
  },
  {
   "cell_type": "code",
   "execution_count": 58,
   "metadata": {},
   "outputs": [
    {
     "output_type": "execute_result",
     "data": {
      "text/plain": "Bitcoin(\n  (varient_lstm): ModuleList(\n    (0): LSTM(2, 150, num_layers=2, dropout=0.3)\n    (1): LSTM(150, 1, dropout=0.2)\n    (2): LSTM(2, 150, num_layers=2, dropout=0.3)\n    (3): LSTM(150, 1, dropout=0.2)\n  )\n  (lstm): ModuleList(\n    (0): LSTM(3, 200, dropout=0.2)\n    (1): LSTM(200, 250, dropout=0.2)\n    (2): LSTM(250, 300, dropout=0.2)\n    (3): LSTM(300, 100, dropout=0.2)\n  )\n  (linear): Linear(in_features=100, out_features=1, bias=True)\n)"
     },
     "metadata": {},
     "execution_count": 58
    }
   ],
   "source": [
    "WS = 20\n",
    "instance = Bitcoin(3, [(1,2), (3,4)], [150,150], [200, 250 ,300,100],1,WS).cuda()\n",
    "instance"
   ]
  },
  {
   "cell_type": "code",
   "execution_count": 20,
   "metadata": {},
   "outputs": [
    {
     "output_type": "execute_result",
     "data": {
      "text/plain": "       Unnamed: 0   Timestamp      Open      High       Low     Close  \\\n0         3977496  1564356000   9511.01   9521.06   9506.02   9507.01   \n10        3977506  1564356600   9509.44   9511.31   9509.00   9511.31   \n20        3977516  1564357200   9560.31   9560.31   9538.89   9538.90   \n30        3977526  1564357800   9551.95   9551.95   9537.74   9537.74   \n40        3977536  1564358400   9538.73   9551.98   9538.73   9541.89   \n...           ...         ...       ...       ...       ...       ...   \n19950     3997646  1565565000  11518.65  11522.55  11518.65  11522.55   \n19960     3997657  1565565660  11492.34  11508.36  11492.34  11508.36   \n19970     3997667  1565566260  11525.00  11532.11  11496.79  11504.84   \n19980     3997677  1565566860  11522.45  11522.45  11519.16  11519.16   \n19990     3997687  1565567460  11545.51  11551.97  11540.09  11551.97   \n\n       Volume_(BTC)  Volume_(Currency)  Weighted_Price  \n0          1.146187       10905.401232     9514.505874  \n10         0.231092        2197.570215     9509.499937  \n20         1.015812        9691.825240     9540.960895  \n30         1.983866       18926.160212     9540.041385  \n40         0.794817        7584.705150     9542.706846  \n...             ...                ...             ...  \n19950      0.592562        6825.534522    11518.690377  \n19960      0.154436        1775.087986    11494.032180  \n19970     29.196789      336153.864640    11513.384837  \n19980      3.455912       39815.799091    11521.067360  \n19990      0.060427         697.565087    11543.884627  \n\n[2000 rows x 9 columns]",
      "text/html": "<div>\n<style scoped>\n    .dataframe tbody tr th:only-of-type {\n        vertical-align: middle;\n    }\n\n    .dataframe tbody tr th {\n        vertical-align: top;\n    }\n\n    .dataframe thead th {\n        text-align: right;\n    }\n</style>\n<table border=\"1\" class=\"dataframe\">\n  <thead>\n    <tr style=\"text-align: right;\">\n      <th></th>\n      <th>Unnamed: 0</th>\n      <th>Timestamp</th>\n      <th>Open</th>\n      <th>High</th>\n      <th>Low</th>\n      <th>Close</th>\n      <th>Volume_(BTC)</th>\n      <th>Volume_(Currency)</th>\n      <th>Weighted_Price</th>\n    </tr>\n  </thead>\n  <tbody>\n    <tr>\n      <td>0</td>\n      <td>3977496</td>\n      <td>1564356000</td>\n      <td>9511.01</td>\n      <td>9521.06</td>\n      <td>9506.02</td>\n      <td>9507.01</td>\n      <td>1.146187</td>\n      <td>10905.401232</td>\n      <td>9514.505874</td>\n    </tr>\n    <tr>\n      <td>10</td>\n      <td>3977506</td>\n      <td>1564356600</td>\n      <td>9509.44</td>\n      <td>9511.31</td>\n      <td>9509.00</td>\n      <td>9511.31</td>\n      <td>0.231092</td>\n      <td>2197.570215</td>\n      <td>9509.499937</td>\n    </tr>\n    <tr>\n      <td>20</td>\n      <td>3977516</td>\n      <td>1564357200</td>\n      <td>9560.31</td>\n      <td>9560.31</td>\n      <td>9538.89</td>\n      <td>9538.90</td>\n      <td>1.015812</td>\n      <td>9691.825240</td>\n      <td>9540.960895</td>\n    </tr>\n    <tr>\n      <td>30</td>\n      <td>3977526</td>\n      <td>1564357800</td>\n      <td>9551.95</td>\n      <td>9551.95</td>\n      <td>9537.74</td>\n      <td>9537.74</td>\n      <td>1.983866</td>\n      <td>18926.160212</td>\n      <td>9540.041385</td>\n    </tr>\n    <tr>\n      <td>40</td>\n      <td>3977536</td>\n      <td>1564358400</td>\n      <td>9538.73</td>\n      <td>9551.98</td>\n      <td>9538.73</td>\n      <td>9541.89</td>\n      <td>0.794817</td>\n      <td>7584.705150</td>\n      <td>9542.706846</td>\n    </tr>\n    <tr>\n      <td>...</td>\n      <td>...</td>\n      <td>...</td>\n      <td>...</td>\n      <td>...</td>\n      <td>...</td>\n      <td>...</td>\n      <td>...</td>\n      <td>...</td>\n      <td>...</td>\n    </tr>\n    <tr>\n      <td>19950</td>\n      <td>3997646</td>\n      <td>1565565000</td>\n      <td>11518.65</td>\n      <td>11522.55</td>\n      <td>11518.65</td>\n      <td>11522.55</td>\n      <td>0.592562</td>\n      <td>6825.534522</td>\n      <td>11518.690377</td>\n    </tr>\n    <tr>\n      <td>19960</td>\n      <td>3997657</td>\n      <td>1565565660</td>\n      <td>11492.34</td>\n      <td>11508.36</td>\n      <td>11492.34</td>\n      <td>11508.36</td>\n      <td>0.154436</td>\n      <td>1775.087986</td>\n      <td>11494.032180</td>\n    </tr>\n    <tr>\n      <td>19970</td>\n      <td>3997667</td>\n      <td>1565566260</td>\n      <td>11525.00</td>\n      <td>11532.11</td>\n      <td>11496.79</td>\n      <td>11504.84</td>\n      <td>29.196789</td>\n      <td>336153.864640</td>\n      <td>11513.384837</td>\n    </tr>\n    <tr>\n      <td>19980</td>\n      <td>3997677</td>\n      <td>1565566860</td>\n      <td>11522.45</td>\n      <td>11522.45</td>\n      <td>11519.16</td>\n      <td>11519.16</td>\n      <td>3.455912</td>\n      <td>39815.799091</td>\n      <td>11521.067360</td>\n    </tr>\n    <tr>\n      <td>19990</td>\n      <td>3997687</td>\n      <td>1565567460</td>\n      <td>11545.51</td>\n      <td>11551.97</td>\n      <td>11540.09</td>\n      <td>11551.97</td>\n      <td>0.060427</td>\n      <td>697.565087</td>\n      <td>11543.884627</td>\n    </tr>\n  </tbody>\n</table>\n<p>2000 rows × 9 columns</p>\n</div>"
     },
     "metadata": {},
     "execution_count": 20
    }
   ],
   "source": [
    "df = pd.read_csv('F:\\\\ut\\\\8\\\\proje\\\\data\\\\newbit.csv').dropna()\n",
    "df = df.iloc[[x for x in range(0,20000,10)]]\n",
    "df"
   ]
  },
  {
   "cell_type": "code",
   "execution_count": 28,
   "metadata": {},
   "outputs": [
    {
     "output_type": "execute_result",
     "data": {
      "text/plain": "       Unnamed: 0   Timestamp      Open      High       Low     Close  \\\n0         3977496  1564356000   9511.01   9521.06   9506.02   9507.01   \n10        3977506  1564356600   9509.44   9511.31   9509.00   9511.31   \n20        3977516  1564357200   9560.31   9560.31   9538.89   9538.90   \n30        3977526  1564357800   9551.95   9551.95   9537.74   9537.74   \n40        3977536  1564358400   9538.73   9551.98   9538.73   9541.89   \n...           ...         ...       ...       ...       ...       ...   \n19950     3997646  1565565000  11518.65  11522.55  11518.65  11522.55   \n19960     3997657  1565565660  11492.34  11508.36  11492.34  11508.36   \n19970     3997667  1565566260  11525.00  11532.11  11496.79  11504.84   \n19980     3997677  1565566860  11522.45  11522.45  11519.16  11519.16   \n19990     3997687  1565567460  11545.51  11551.97  11540.09  11551.97   \n\n       Volume_(BTC)  Volume_(Currency)  Weighted_Price  \n0          1.146187       10905.401232     9514.505874  \n10         0.231092        2197.570215     9509.499937  \n20         1.015812        9691.825240     9540.960895  \n30         1.983866       18926.160212     9540.041385  \n40         0.794817        7584.705150     9542.706846  \n...             ...                ...             ...  \n19950      0.592562        6825.534522    11518.690377  \n19960      0.154436        1775.087986    11494.032180  \n19970     29.196789      336153.864640    11513.384837  \n19980      3.455912       39815.799091    11521.067360  \n19990      0.060427         697.565087    11543.884627  \n\n[2000 rows x 9 columns]",
      "text/html": "<div>\n<style scoped>\n    .dataframe tbody tr th:only-of-type {\n        vertical-align: middle;\n    }\n\n    .dataframe tbody tr th {\n        vertical-align: top;\n    }\n\n    .dataframe thead th {\n        text-align: right;\n    }\n</style>\n<table border=\"1\" class=\"dataframe\">\n  <thead>\n    <tr style=\"text-align: right;\">\n      <th></th>\n      <th>Unnamed: 0</th>\n      <th>Timestamp</th>\n      <th>Open</th>\n      <th>High</th>\n      <th>Low</th>\n      <th>Close</th>\n      <th>Volume_(BTC)</th>\n      <th>Volume_(Currency)</th>\n      <th>Weighted_Price</th>\n    </tr>\n  </thead>\n  <tbody>\n    <tr>\n      <td>0</td>\n      <td>3977496</td>\n      <td>1564356000</td>\n      <td>9511.01</td>\n      <td>9521.06</td>\n      <td>9506.02</td>\n      <td>9507.01</td>\n      <td>1.146187</td>\n      <td>10905.401232</td>\n      <td>9514.505874</td>\n    </tr>\n    <tr>\n      <td>10</td>\n      <td>3977506</td>\n      <td>1564356600</td>\n      <td>9509.44</td>\n      <td>9511.31</td>\n      <td>9509.00</td>\n      <td>9511.31</td>\n      <td>0.231092</td>\n      <td>2197.570215</td>\n      <td>9509.499937</td>\n    </tr>\n    <tr>\n      <td>20</td>\n      <td>3977516</td>\n      <td>1564357200</td>\n      <td>9560.31</td>\n      <td>9560.31</td>\n      <td>9538.89</td>\n      <td>9538.90</td>\n      <td>1.015812</td>\n      <td>9691.825240</td>\n      <td>9540.960895</td>\n    </tr>\n    <tr>\n      <td>30</td>\n      <td>3977526</td>\n      <td>1564357800</td>\n      <td>9551.95</td>\n      <td>9551.95</td>\n      <td>9537.74</td>\n      <td>9537.74</td>\n      <td>1.983866</td>\n      <td>18926.160212</td>\n      <td>9540.041385</td>\n    </tr>\n    <tr>\n      <td>40</td>\n      <td>3977536</td>\n      <td>1564358400</td>\n      <td>9538.73</td>\n      <td>9551.98</td>\n      <td>9538.73</td>\n      <td>9541.89</td>\n      <td>0.794817</td>\n      <td>7584.705150</td>\n      <td>9542.706846</td>\n    </tr>\n    <tr>\n      <td>...</td>\n      <td>...</td>\n      <td>...</td>\n      <td>...</td>\n      <td>...</td>\n      <td>...</td>\n      <td>...</td>\n      <td>...</td>\n      <td>...</td>\n      <td>...</td>\n    </tr>\n    <tr>\n      <td>19950</td>\n      <td>3997646</td>\n      <td>1565565000</td>\n      <td>11518.65</td>\n      <td>11522.55</td>\n      <td>11518.65</td>\n      <td>11522.55</td>\n      <td>0.592562</td>\n      <td>6825.534522</td>\n      <td>11518.690377</td>\n    </tr>\n    <tr>\n      <td>19960</td>\n      <td>3997657</td>\n      <td>1565565660</td>\n      <td>11492.34</td>\n      <td>11508.36</td>\n      <td>11492.34</td>\n      <td>11508.36</td>\n      <td>0.154436</td>\n      <td>1775.087986</td>\n      <td>11494.032180</td>\n    </tr>\n    <tr>\n      <td>19970</td>\n      <td>3997667</td>\n      <td>1565566260</td>\n      <td>11525.00</td>\n      <td>11532.11</td>\n      <td>11496.79</td>\n      <td>11504.84</td>\n      <td>29.196789</td>\n      <td>336153.864640</td>\n      <td>11513.384837</td>\n    </tr>\n    <tr>\n      <td>19980</td>\n      <td>3997677</td>\n      <td>1565566860</td>\n      <td>11522.45</td>\n      <td>11522.45</td>\n      <td>11519.16</td>\n      <td>11519.16</td>\n      <td>3.455912</td>\n      <td>39815.799091</td>\n      <td>11521.067360</td>\n    </tr>\n    <tr>\n      <td>19990</td>\n      <td>3997687</td>\n      <td>1565567460</td>\n      <td>11545.51</td>\n      <td>11551.97</td>\n      <td>11540.09</td>\n      <td>11551.97</td>\n      <td>0.060427</td>\n      <td>697.565087</td>\n      <td>11543.884627</td>\n    </tr>\n  </tbody>\n</table>\n<p>2000 rows × 9 columns</p>\n</div>"
     },
     "metadata": {},
     "execution_count": 28
    }
   ],
   "source": [
    "test , tarin = inputs(df)\n",
    "df"
   ]
  },
  {
   "cell_type": "code",
   "execution_count": 59,
   "metadata": {},
   "outputs": [
    {
     "output_type": "execute_result",
     "data": {
      "text/plain": "<All keys matched successfully>"
     },
     "metadata": {},
     "execution_count": 59
    }
   ],
   "source": [
    "instance.load_state_dict(torch.load('PN_result\\\\LSTM_taklaye_ws20_variantSize_150150200250300100.pn'))"
   ]
  },
  {
   "cell_type": "code",
   "execution_count": 66,
   "metadata": {},
   "outputs": [],
   "source": [
    "def Strategy_test():\n",
    "    my_money = 10000\n",
    "    my_bit = 0\n",
    "    preds = []\n",
    "    real = []\n",
    "    with torch.no_grad():\n",
    "        i = -1\n",
    "        for item, y in test:\n",
    "            i+=1\n",
    "            instance.reset()\n",
    "\n",
    "            preds.append(instance.forward(item))\n",
    "            \n",
    "            if len(preds)>1:\n",
    "                if preds[-1] > preds[-2] and my_money!=0:\n",
    "                    my_bit = .999*my_money/df['Open'].iloc[i-97]\n",
    "                    my_money = 0\n",
    "                elif preds[-1] < preds[-2] and my_bit != 0:\n",
    "                    my_money = .999*my_bit * df['Open'].iloc[i-97]\n",
    "                    my_bit = 0\n",
    "            else:\n",
    "                continue\n",
    "    print(my_money,'\\n', my_bit * df['Open'].iloc[-1])"
   ]
  },
  {
   "cell_type": "code",
   "execution_count": 67,
   "metadata": {},
   "outputs": [
    {
     "output_type": "stream",
     "name": "stdout",
     "text": "0\n10385.160344101876\n"
    }
   ],
   "source": [
    "Strategy_test()"
   ]
  },
  {
   "cell_type": "code",
   "execution_count": 41,
   "metadata": {},
   "outputs": [
    {
     "output_type": "error",
     "ename": "NameError",
     "evalue": "name 'my_money' is not defined",
     "traceback": [
      "\u001b[1;31m---------------------------------------------------------------------------\u001b[0m",
      "\u001b[1;31mNameError\u001b[0m                                 Traceback (most recent call last)",
      "\u001b[1;32m<ipython-input-41-517b05e0c99c>\u001b[0m in \u001b[0;36m<module>\u001b[1;34m\u001b[0m\n\u001b[1;32m----> 1\u001b[1;33m \u001b[0mmy_money\u001b[0m\u001b[1;33m\u001b[0m\u001b[1;33m\u001b[0m\u001b[0m\n\u001b[0m",
      "\u001b[1;31mNameError\u001b[0m: name 'my_money' is not defined"
     ]
    }
   ],
   "source": [
    "my_money"
   ]
  },
  {
   "cell_type": "code",
   "execution_count": null,
   "metadata": {},
   "outputs": [],
   "source": []
  }
 ],
 "metadata": {
  "kernelspec": {
   "display_name": "Python 3.7.4 64-bit ('base': conda)",
   "language": "python",
   "name": "python37464bitbasecondab54d492e7cb94ab589054151cf5e31d3"
  },
  "language_info": {
   "codemirror_mode": {
    "name": "ipython",
    "version": 3
   },
   "file_extension": ".py",
   "mimetype": "text/x-python",
   "name": "python",
   "nbconvert_exporter": "python",
   "pygments_lexer": "ipython3",
   "version": "3.7.4-final"
  }
 },
 "nbformat": 4,
 "nbformat_minor": 2
}