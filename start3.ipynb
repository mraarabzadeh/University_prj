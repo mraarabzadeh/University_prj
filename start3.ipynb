{
  "cells": [
    {
      "cell_type": "markdown",
      "metadata": {
        "id": "view-in-github",
        "colab_type": "text"
      },
      "source": [
        "<a href=\"https://colab.research.google.com/github/mraarabzadeh/University_prj/blob/master/start3.ipynb\" target=\"_parent\"><img src=\"https://colab.research.google.com/assets/colab-badge.svg\" alt=\"Open In Colab\"/></a>"
      ]
    },
    {
      "cell_type": "code",
      "metadata": {
        "id": "gnhtkH_xZHF0",
        "colab_type": "code",
        "colab": {}
      },
      "source": [
        "import torch\n",
        "import torch.nn as nn\n",
        "import numpy as np\n",
        "import pandas as pd\n",
        "import matplotlib.pyplot as plt\n",
        "from sklearn.preprocessing import MinMaxScaler\n"
      ],
      "execution_count": 0,
      "outputs": []
    },
    {
      "cell_type": "code",
      "metadata": {
        "id": "Mi_W_Ch9ZJpQ",
        "colab_type": "code",
        "colab": {}
      },
      "source": [
        "df = pd.read_csv('/content/drive/My Drive/Colab Notebooks/newbit.csv').dropna()\n",
        "df = df.iloc[[x for x in range(0,20000,10)]]"
      ],
      "execution_count": 0,
      "outputs": []
    },
    {
      "cell_type": "code",
      "metadata": {
        "id": "vBW0RYK2ZL3s",
        "colab_type": "code",
        "colab": {}
      },
      "source": [
        "class Bitcoin(nn.Module):\n",
        "    def __init__(self,inSize, hiddenSize, outSize,ws):\n",
        "        super().__init__()\n",
        "        self.hiddenSize = hiddenSize\n",
        "        self.inSize = inSize\n",
        "        lstm = []\n",
        "        for i,item in enumerate(hiddenSize):\n",
        "            lstm.append(nn.LSTM(inSize,hiddenSize[i],num_layers=2,dropout=.2))\n",
        "            inSize = hiddenSize[i]\n",
        "        self.lstm = nn.ModuleList(lstm)\n",
        "        self.linear = nn.Linear(hiddenSize[-1], outSize)\n",
        "        self.ws = ws\n",
        "        self.reset()\n",
        "    def reset(self):\n",
        "        self.hiddenMemory =[]\n",
        "        for item in self.hiddenSize:\n",
        "            self.hiddenMemory.append((torch.zeros(2,1,item).cuda(),\\\n",
        "                            torch.zeros(2,1,item).cuda()))\n",
        "    def forward(self,seq):\n",
        "        seq=seq.view(self.ws,-1,self.inSize)\n",
        "        for i,item1 in enumerate(self.hiddenMemory):\n",
        "            seq ,self.hiddenMemory[i]= self.lstm[i](seq, self.hiddenMemory[i])\n",
        "        x = self.linear(seq)\n",
        "        return x[-1]"
      ],
      "execution_count": 0,
      "outputs": []
    },
    {
      "cell_type": "code",
      "metadata": {
        "id": "r4UjZQKNZPvW",
        "colab_type": "code",
        "colab": {}
      },
      "source": [
        "def make_input(seq,ws):\n",
        "    output = []\n",
        "    for item in range(len(seq) - ws):\n",
        "        output.append( ((seq[item:item+ws].reshape(1,-1)[0].cuda()),\\\n",
        "                        torch.FloatTensor(np.array(seq[item + ws:item + ws+1][-1][-1])).cuda()) )\n",
        "    return output\n",
        "\n"
      ],
      "execution_count": 0,
      "outputs": []
    },
    {
      "cell_type": "code",
      "metadata": {
        "id": "9TdA9ocgZRhE",
        "colab_type": "code",
        "outputId": "a6d483a4-c116-432d-fd50-24e113b793f4",
        "colab": {
          "base_uri": "https://localhost:8080/",
          "height": 35
        }
      },
      "source": [
        "WS = 5\n",
        "instance = Bitcoin(1,[200,300,100],1,WS).cuda()\n",
        "criterion = nn.MSELoss()\n",
        "optimizer = torch.optim.Adam(instance.parameters(), lr = .01)\n",
        "torch.manual_seed(33)"
      ],
      "execution_count": 0,
      "outputs": [
        {
          "output_type": "execute_result",
          "data": {
            "text/plain": [
              "<torch._C.Generator at 0x7f9c55c829d0>"
            ]
          },
          "metadata": {
            "tags": []
          },
          "execution_count": 53
        }
      ]
    },
    {
      "cell_type": "code",
      "metadata": {
        "id": "iGsEx952ZTbr",
        "colab_type": "code",
        "colab": {}
      },
      "source": [
        "traincol = ['Open','High','Low', 'Close', 'Volume_(Currency)', 'Weighted_Price']\n",
        "resultCol = ['Weighted_Price']"
      ],
      "execution_count": 0,
      "outputs": []
    },
    {
      "cell_type": "code",
      "metadata": {
        "id": "CptzbRMoZVB7",
        "colab_type": "code",
        "colab": {}
      },
      "source": [
        "scaler = MinMaxScaler(feature_range=(-20, 20 ))\n",
        "train_set = np.array(df[resultCol][-500:-100].values.astype(float)).reshape(-1,1)\n",
        "train_set = scaler.fit_transform(train_set)\n",
        "train_set = torch.FloatTensor(train_set)\n",
        "train_set = make_input(train_set, WS)\n",
        "test = df[resultCol][-100:].values.astype(float).reshape(-1,1)\n",
        "test = scaler.fit_transform(test)\n",
        "test = torch.FloatTensor(test)\n",
        "test = make_input(test,WS)"
      ],
      "execution_count": 0,
      "outputs": []
    },
    {
      "cell_type": "code",
      "metadata": {
        "id": "KGiyKNIFZWoQ",
        "colab_type": "code",
        "outputId": "30d29f8c-53ae-4364-a5fd-75ddb55fa536",
        "colab": {
          "base_uri": "https://localhost:8080/",
          "height": 551
        }
      },
      "source": [
        "epoch = 200\n",
        "optimizer = torch.optim.Adam(instance.parameters(), lr=.0001)\n",
        "for i in range(epoch):\n",
        "    for seq, y in train_set:\n",
        "        instance.reset()\n",
        "        pred = instance.forward(seq)\n",
        "        loss = criterion(pred,y)\n",
        "        optimizer.zero_grad()\n",
        "        loss.backward(retain_graph=True)\n",
        "        optimizer.step()\n",
        "    print(i, loss)\n",
        "    if loss <= .001:\n",
        "      break"
      ],
      "execution_count": 0,
      "outputs": [
        {
          "output_type": "stream",
          "text": [
            "/usr/local/lib/python3.6/dist-packages/torch/nn/modules/loss.py:431: UserWarning: Using a target size (torch.Size([])) that is different to the input size (torch.Size([1, 1])). This will likely lead to incorrect results due to broadcasting. Please ensure they have the same size.\n",
            "  return F.mse_loss(input, target, reduction=self.reduction)\n"
          ],
          "name": "stderr"
        },
        {
          "output_type": "stream",
          "text": [
            "0 tensor(0.2791, device='cuda:0', grad_fn=<MseLossBackward>)\n",
            "1 tensor(0.0569, device='cuda:0', grad_fn=<MseLossBackward>)\n",
            "2 tensor(0.1854, device='cuda:0', grad_fn=<MseLossBackward>)\n",
            "3 tensor(0.0166, device='cuda:0', grad_fn=<MseLossBackward>)\n",
            "4 tensor(0.0238, device='cuda:0', grad_fn=<MseLossBackward>)\n",
            "5 tensor(0.1424, device='cuda:0', grad_fn=<MseLossBackward>)\n",
            "6 tensor(0.0279, device='cuda:0', grad_fn=<MseLossBackward>)\n",
            "7 tensor(0.1357, device='cuda:0', grad_fn=<MseLossBackward>)\n",
            "8 tensor(0.0815, device='cuda:0', grad_fn=<MseLossBackward>)\n",
            "9 tensor(0.1065, device='cuda:0', grad_fn=<MseLossBackward>)\n",
            "10 tensor(0.0254, device='cuda:0', grad_fn=<MseLossBackward>)\n",
            "11 tensor(0.1255, device='cuda:0', grad_fn=<MseLossBackward>)\n",
            "12 tensor(0.0677, device='cuda:0', grad_fn=<MseLossBackward>)\n",
            "13 tensor(0.0226, device='cuda:0', grad_fn=<MseLossBackward>)\n",
            "14 tensor(0.1367, device='cuda:0', grad_fn=<MseLossBackward>)\n",
            "15 tensor(0.1018, device='cuda:0', grad_fn=<MseLossBackward>)\n",
            "16 tensor(0.0136, device='cuda:0', grad_fn=<MseLossBackward>)\n",
            "17 tensor(0.0692, device='cuda:0', grad_fn=<MseLossBackward>)\n",
            "18 tensor(0.1319, device='cuda:0', grad_fn=<MseLossBackward>)\n",
            "19 tensor(0.0041, device='cuda:0', grad_fn=<MseLossBackward>)\n",
            "20 tensor(0.2156, device='cuda:0', grad_fn=<MseLossBackward>)\n",
            "21 tensor(0.4792, device='cuda:0', grad_fn=<MseLossBackward>)\n",
            "22 tensor(0.0020, device='cuda:0', grad_fn=<MseLossBackward>)\n",
            "23 tensor(0.7244, device='cuda:0', grad_fn=<MseLossBackward>)\n",
            "24 tensor(0.4306, device='cuda:0', grad_fn=<MseLossBackward>)\n",
            "25 tensor(0.0002, device='cuda:0', grad_fn=<MseLossBackward>)\n"
          ],
          "name": "stdout"
        }
      ]
    },
    {
      "cell_type": "code",
      "metadata": {
        "id": "a9GQIh26Zas3",
        "colab_type": "code",
        "colab": {}
      },
      "source": [
        "torch.save(instance.state_dict(),'/content/drive/My Drive/Colab Notebooks/start400_5_3L_R.pn')"
      ],
      "execution_count": 0,
      "outputs": []
    },
    {
      "cell_type": "code",
      "metadata": {
        "id": "ApebcROAZcFd",
        "colab_type": "code",
        "colab": {}
      },
      "source": [
        "instance = Bitcoin(1,[100,200],1,WS)\n",
        "instance.load_state_dict(torch.load('start1000_360.pn'))\n",
        "instance = instance.cuda()"
      ],
      "execution_count": 0,
      "outputs": []
    },
    {
      "cell_type": "code",
      "metadata": {
        "id": "-Woi-GEGZeGW",
        "colab_type": "code",
        "colab": {}
      },
      "source": [
        "# instance.eval()\n",
        "preds = []\n",
        "real = []\n",
        "with torch.no_grad():\n",
        "    for item, y in train_set:\n",
        "        instance.reset()\n",
        "\n",
        "        preds.append(instance.forward(item))\n",
        "        real.append(y)\n"
      ],
      "execution_count": 0,
      "outputs": []
    },
    {
      "cell_type": "code",
      "metadata": {
        "id": "r274kbnvZgFq",
        "colab_type": "code",
        "outputId": "84a0f76c-52bb-42dd-ecf8-cb825531215d",
        "colab": {
          "base_uri": "https://localhost:8080/",
          "height": 265
        }
      },
      "source": [
        "plt.plot(range(300), preds[-300:],)\n",
        "# plt.show()\n",
        "plt.grid(color='r', linestyle='-', linewidth=.1, zorder=.1)\n",
        "# plt.show()\n",
        "plt.plot(range(300), real[-300:])\n",
        "plt.show()"
      ],
      "execution_count": 0,
      "outputs": [
        {
          "output_type": "display_data",
          "data": {
            "image/png": "[encoded data removed]",
            "text/plain": [
              "<Figure size 432x288 with 1 Axes>"
            ]
          },
          "metadata": {
            "tags": []
          }
        }
      ]
    },
    {
      "cell_type": "code",
      "metadata": {
        "id": "7AHw4QSvZifw",
        "colab_type": "code",
        "colab": {}
      },
      "source": [
        ""
      ],
      "execution_count": 0,
      "outputs": []
    }
  ],
  "metadata": {
    "colab": {
      "name": "start3.ipynb",
      "provenance": [],
      "toc_visible": true,
      "mount_file_id": "1db2wZzK1pwEvbHm76MUhxQJnDPa72URY",
      "authorship_tag": "ABX9TyN4vNvLo4nagtf3sbzhW2PC",
      "include_colab_link": true
    },
    "kernelspec": {
      "name": "python3",
      "display_name": "Python 3"
    },
    "accelerator": "GPU"
  },
  "nbformat": 4,
  "nbformat_minor": 0
}