{
 "cells": [
  {
   "cell_type": "markdown",
   "metadata": {
    "colab_type": "text",
    "id": "view-in-github"
   },
   "source": [
    "<a href=\"https://colab.research.google.com/github/mraarabzadeh/University_prj/blob/master/start3.ipynb\" target=\"_parent\"><img src=\"https://colab.research.google.com/assets/colab-badge.svg\" alt=\"Open In Colab\"/></a>"
   ]
  },
  {
   "cell_type": "code",
   "execution_count": 1,
   "metadata": {
    "colab": {},
    "colab_type": "code",
    "id": "gnhtkH_xZHF0"
   },
   "outputs": [],
   "source": [
    "import torch\n",
    "import torch.nn as nn\n",
    "import numpy as np\n",
    "import pandas as pd\n",
    "import matplotlib.pyplot as plt\n",
    "from sklearn.preprocessing import MinMaxScaler\n"
   ]
  },
  {
   "cell_type": "code",
   "execution_count": 2,
   "metadata": {
    "colab": {},
    "colab_type": "code",
    "id": "Mi_W_Ch9ZJpQ"
   },
   "outputs": [],
   "source": [
    "df = pd.read_csv('F:\\\\ut\\\\8\\\\proje\\\\data\\\\newbit.csv').dropna()\n",
    "df = df.iloc[[x for x in range(0,20000,10)]]"
   ]
  },
  {
   "cell_type": "code",
   "execution_count": 3,
   "metadata": {
    "colab": {},
    "colab_type": "code",
    "id": "vBW0RYK2ZL3s"
   },
   "outputs": [],
   "source": [
    "class Bitcoin(nn.Module):\n",
    "    def __init__(self,inSize, hiddenSize, outSize,ws):\n",
    "        super().__init__()\n",
    "        self.hiddenSize = hiddenSize\n",
    "        self.inSize = inSize\n",
    "        lstm = []\n",
    "        for i,item in enumerate(hiddenSize):\n",
    "            lstm.append(nn.LSTM(inSize,hiddenSize[i],num_layers=2,dropout=.2))\n",
    "            inSize = hiddenSize[i]\n",
    "        self.lstm = nn.ModuleList(lstm)\n",
    "        self.linear = nn.Linear(hiddenSize[-1], outSize)\n",
    "        self.ws = ws\n",
    "        self.reset()\n",
    "    def reset(self):\n",
    "        self.hiddenMemory =[]\n",
    "        for item in self.hiddenSize:\n",
    "            self.hiddenMemory.append((torch.zeros(2,1,item).cuda(),\\\n",
    "                            torch.zeros(2,1,item).cuda()))\n",
    "    def forward(self,seq):\n",
    "        seq=seq.view(self.ws,-1,self.inSize)\n",
    "        for i,item1 in enumerate(self.hiddenMemory):\n",
    "            seq ,self.hiddenMemory[i]= self.lstm[i](seq, self.hiddenMemory[i])\n",
    "        x = self.linear(seq)\n",
    "        return x[-1]"
   ]
  },
  {
   "cell_type": "code",
   "execution_count": 4,
   "metadata": {
    "colab": {},
    "colab_type": "code",
    "id": "r4UjZQKNZPvW"
   },
   "outputs": [],
   "source": [
    "def make_input(seq,ws):\n",
    "    output = []\n",
    "    for item in range(len(seq) - ws):\n",
    "        output.append( ((seq[item:item+ws].reshape(1,-1)[0].cuda()),\\\n",
    "                        torch.FloatTensor(np.array(seq[item + ws:item + ws+1][-1][-1])).cuda()) )\n",
    "    return output\n",
    "\n"
   ]
  },
  {
   "cell_type": "code",
   "execution_count": 5,
   "metadata": {
    "colab": {
     "base_uri": "https://localhost:8080/",
     "height": 35
    },
    "colab_type": "code",
    "id": "9TdA9ocgZRhE",
    "outputId": "a6d483a4-c116-432d-fd50-24e113b793f4"
   },
   "outputs": [
    {
     "data": {
      "text/plain": [
       "<torch._C.Generator at 0x205f9351190>"
      ]
     },
     "execution_count": 5,
     "metadata": {},
     "output_type": "execute_result"
    }
   ],
   "source": [
    "WS = 5\n",
    "instance = Bitcoin(1,[200,300,100],1,WS).cuda()\n",
    "criterion = nn.MSELoss()\n",
    "optimizer = torch.optim.Adam(instance.parameters(), lr = .01)\n",
    "torch.manual_seed(33)"
   ]
  },
  {
   "cell_type": "code",
   "execution_count": 17,
   "metadata": {
    "colab": {},
    "colab_type": "code",
    "id": "iGsEx952ZTbr"
   },
   "outputs": [],
   "source": [
    "traincol = ['Open','High','Low', 'Close', 'Volume_(Currency)', 'Weighted_Price']\n",
    "resultCol = ['Close']"
   ]
  },
  {
   "cell_type": "code",
   "execution_count": 50,
   "metadata": {
    "colab": {},
    "colab_type": "code",
    "id": "CptzbRMoZVB7"
   },
   "outputs": [],
   "source": [
    "scaler = MinMaxScaler(feature_range=(-20, 20 ))\n",
    "train_set = np.array(df[resultCol][-500:-100].values.astype(float)).reshape(-1,1)\n",
    "train_set = scaler.fit_transform(train_set)\n",
    "train_set = torch.FloatTensor(train_set)\n",
    "train_set = make_input(train_set, WS)\n",
    "test = df[resultCol][-230:].values.astype(float).reshape(-1,1)\n",
    "test = scaler.fit_transform(test)\n",
    "test = torch.FloatTensor(test)\n",
    "test = make_input(test,WS)"
   ]
  },
  {
   "cell_type": "code",
   "execution_count": null,
   "metadata": {
    "colab": {
     "base_uri": "https://localhost:8080/",
     "height": 551
    },
    "colab_type": "code",
    "id": "KGiyKNIFZWoQ",
    "outputId": "30d29f8c-53ae-4364-a5fd-75ddb55fa536"
   },
   "outputs": [
    {
     "name": "stderr",
     "output_type": "stream",
     "text": [
      "C:\\ProgramData\\Anaconda3\\lib\\site-packages\\torch\\nn\\modules\\loss.py:431: UserWarning: Using a target size (torch.Size([])) that is different to the input size (torch.Size([1, 1])). This will likely lead to incorrect results due to broadcasting. Please ensure they have the same size.\n",
      "  return F.mse_loss(input, target, reduction=self.reduction)\n"
     ]
    },
    {
     "name": "stdout",
     "output_type": "stream",
     "text": [
      "0 tensor(1.5175, device='cuda:0', grad_fn=<MseLossBackward>)\n",
      "1 tensor(0.0624, device='cuda:0', grad_fn=<MseLossBackward>)\n",
      "2 tensor(0.0082, device='cuda:0', grad_fn=<MseLossBackward>)\n",
      "3 tensor(0.2243, device='cuda:0', grad_fn=<MseLossBackward>)\n",
      "4 tensor(0.1146, device='cuda:0', grad_fn=<MseLossBackward>)\n",
      "5 tensor(0.5038, device='cuda:0', grad_fn=<MseLossBackward>)\n",
      "6 tensor(0.0031, device='cuda:0', grad_fn=<MseLossBackward>)\n",
      "7 tensor(3.8616e-05, device='cuda:0', grad_fn=<MseLossBackward>)\n",
      "8 tensor(0.0621, device='cuda:0', grad_fn=<MseLossBackward>)\n",
      "9 tensor(0.1326, device='cuda:0', grad_fn=<MseLossBackward>)\n",
      "10 tensor(0.3077, device='cuda:0', grad_fn=<MseLossBackward>)\n",
      "11 tensor(0.0003, device='cuda:0', grad_fn=<MseLossBackward>)\n",
      "12 tensor(0.0035, device='cuda:0', grad_fn=<MseLossBackward>)\n",
      "13 tensor(0.4151, device='cuda:0', grad_fn=<MseLossBackward>)\n",
      "14 tensor(2.1963, device='cuda:0', grad_fn=<MseLossBackward>)\n",
      "15 tensor(0.0311, device='cuda:0', grad_fn=<MseLossBackward>)\n",
      "16 tensor(0.0004, device='cuda:0', grad_fn=<MseLossBackward>)\n",
      "17 tensor(0.0623, device='cuda:0', grad_fn=<MseLossBackward>)\n",
      "18 tensor(0.1919, device='cuda:0', grad_fn=<MseLossBackward>)\n",
      "19 tensor(0.0031, device='cuda:0', grad_fn=<MseLossBackward>)\n",
      "20 tensor(0.2382, device='cuda:0', grad_fn=<MseLossBackward>)\n",
      "21 tensor(0.8806, device='cuda:0', grad_fn=<MseLossBackward>)\n",
      "22 tensor(0.0001, device='cuda:0', grad_fn=<MseLossBackward>)\n",
      "23 tensor(0.0006, device='cuda:0', grad_fn=<MseLossBackward>)\n",
      "24 tensor(0.0480, device='cuda:0', grad_fn=<MseLossBackward>)\n"
     ]
    }
   ],
   "source": [
    "epoch = 200\n",
    "optimizer = torch.optim.Adam(instance.parameters(), lr=.0001)\n",
    "for i in range(epoch):\n",
    "    for seq, y in train_set:\n",
    "        instance.reset()\n",
    "        pred = instance.forward(seq)\n",
    "        loss = criterion(pred,y)\n",
    "        optimizer.zero_grad()\n",
    "        loss.backward(retain_graph=True)\n",
    "        optimizer.step()\n",
    "    print(i, loss)\n",
    "#     if loss <= .001:\n",
    "#       break"
   ]
  },
  {
   "cell_type": "code",
   "execution_count": 0,
   "metadata": {
    "colab": {},
    "colab_type": "code",
    "id": "a9GQIh26Zas3"
   },
   "outputs": [],
   "source": [
    "torch.save(instance.state_dict(),'/content/drive/My Drive/Colab Notebooks/start400_5_3L_R.pn')"
   ]
  },
  {
   "cell_type": "code",
   "execution_count": 43,
   "metadata": {
    "colab": {},
    "colab_type": "code",
    "id": "ApebcROAZcFd"
   },
   "outputs": [],
   "source": [
    "instance = Bitcoin(1,[200,300,100],1,WS)\n",
    "instance.load_state_dict(torch.load('F:\\\\ut\\\\8\\\\proje\\\\PN_result\\\\start400_5_3L_R.pn'))\n",
    "instance = instance.cuda()"
   ]
  },
  {
   "cell_type": "code",
   "execution_count": null,
   "metadata": {
    "colab": {},
    "colab_type": "code",
    "id": "-Woi-GEGZeGW"
   },
   "outputs": [],
   "source": [
    "# instance.eval()\n",
    "preds = []\n",
    "real = []\n",
    "with torch.no_grad():\n",
    "    for item, y in test:\n",
    "        instance.reset()\n",
    "\n",
    "        preds.append(instance.forward(item))\n",
    "        real.append(y)\n"
   ]
  },
  {
   "cell_type": "code",
   "execution_count": null,
   "metadata": {
    "colab": {
     "base_uri": "https://localhost:8080/",
     "height": 265
    },
    "colab_type": "code",
    "id": "r274kbnvZgFq",
    "outputId": "84a0f76c-52bb-42dd-ecf8-cb825531215d"
   },
   "outputs": [],
   "source": [
    "plt.plot(range(220), preds[-220:],)\n",
    "# plt.show()\n",
    "plt.grid(color='r', linestyle='-', linewidth=.1, zorder=.1)\n",
    "# plt.show()\n",
    "plt.plot(range(220), real[-220:])\n",
    "plt.show()"
   ]
  },
  {
   "cell_type": "code",
   "execution_count": 38,
   "metadata": {
    "colab": {},
    "colab_type": "code",
    "id": "7AHw4QSvZifw"
   },
   "outputs": [
    {
     "name": "stdout",
     "output_type": "stream",
     "text": [
      "lstm.0.weight_ih_l0 1200\n",
      "lstm.0.weight_hh_l0 1200\n",
      "lstm.0.bias_ih_l0 1200\n",
      "lstm.0.bias_hh_l0 1200\n",
      "lstm.0.weight_ih_l1 1200\n",
      "lstm.0.weight_hh_l1 1200\n",
      "lstm.0.bias_ih_l1 1200\n",
      "lstm.0.bias_hh_l1 1200\n",
      "lstm.1.weight_ih_l0 800\n",
      "lstm.1.weight_hh_l0 800\n",
      "lstm.1.bias_ih_l0 800\n",
      "lstm.1.bias_hh_l0 800\n",
      "lstm.1.weight_ih_l1 800\n",
      "lstm.1.weight_hh_l1 800\n",
      "lstm.1.bias_ih_l1 800\n",
      "lstm.1.bias_hh_l1 800\n",
      "lstm.2.weight_ih_l0 400\n",
      "lstm.2.weight_hh_l0 400\n",
      "lstm.2.bias_ih_l0 400\n",
      "lstm.2.bias_hh_l0 400\n",
      "lstm.2.weight_ih_l1 400\n",
      "lstm.2.weight_hh_l1 400\n",
      "lstm.2.bias_ih_l1 400\n",
      "lstm.2.bias_hh_l1 400\n",
      "linear.weight 1\n",
      "linear.bias 1\n"
     ]
    }
   ],
   "source": [
    "for key ,val in torch.load('F:\\\\ut\\\\8\\\\proje\\\\PN_result\\\\start400_5_3L_C.pn').items():\n",
    "    print (key ,len(val))"
   ]
  },
  {
   "cell_type": "code",
   "execution_count": null,
   "metadata": {},
   "outputs": [],
   "source": []
  }
 ],
 "metadata": {
  "accelerator": "GPU",
  "colab": {
   "authorship_tag": "ABX9TyN4vNvLo4nagtf3sbzhW2PC",
   "include_colab_link": true,
   "mount_file_id": "1db2wZzK1pwEvbHm76MUhxQJnDPa72URY",
   "name": "start3.ipynb",
   "provenance": [],
   "toc_visible": true
  },
  "kernelspec": {
   "display_name": "Python 3",
   "language": "python",
   "name": "python3"
  },
  "language_info": {
   "codemirror_mode": {
    "name": "ipython",
    "version": 3
   },
   "file_extension": ".py",
   "mimetype": "text/x-python",
   "name": "python",
   "nbconvert_exporter": "python",
   "pygments_lexer": "ipython3",
   "version": "3.7.4"
  }
 },
 "nbformat": 4,
 "nbformat_minor": 1
}
